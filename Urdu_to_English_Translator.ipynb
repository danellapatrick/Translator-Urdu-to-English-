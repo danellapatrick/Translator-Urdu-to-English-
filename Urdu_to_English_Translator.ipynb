{
  "nbformat": 4,
  "nbformat_minor": 0,
  "metadata": {
    "colab": {
      "name": "Urdu to English Translator ",
      "private_outputs": true,
      "provenance": [],
      "collapsed_sections": []
    },
    "kernelspec": {
      "name": "python3",
      "display_name": "Python 3"
    },
    "language_info": {
      "name": "python"
    },
    "accelerator": "GPU",
    "gpuClass": "standard"
  },
  "cells": [
    {
      "cell_type": "markdown",
      "source": [
        ""
      ],
      "metadata": {
        "id": "VlLVvDTxcihn"
      }
    },
    {
      "cell_type": "code",
      "source": [
        "%%capture\n",
        "pip install tensorflow==2.2.0"
      ],
      "metadata": {
        "id": "tjLRrjt-MLiX"
      },
      "execution_count": null,
      "outputs": []
    },
    {
      "cell_type": "code",
      "source": [
        "pip install numpy==1.19.5"
      ],
      "metadata": {
        "id": "TjnIM0EDeZZm"
      },
      "execution_count": null,
      "outputs": []
    },
    {
      "cell_type": "code",
      "execution_count": null,
      "metadata": {
        "id": "-6y-FV2CEsKk"
      },
      "outputs": [],
      "source": [
        "import collections\n",
        "import helper\n",
        "import numpy as np\n",
        "import pandas as pd\n",
        "import tensorflow as tf\n",
        "from tensorflow.keras.preprocessing.text import Tokenizer\n",
        "from tensorflow.keras.preprocessing.sequence import pad_sequences\n",
        "from tensorflow.keras.models import Model\n",
        "from tensorflow.keras.layers import GRU, Input, Dense, TimeDistributed, Activation, RepeatVector, Bidirectional\n",
        "from tensorflow.python.keras.layers.embeddings import Embedding\n",
        "from tensorflow.keras.optimizers import Adam\n",
        "from tensorflow.keras.losses import sparse_categorical_crossentropy\n",
        "from tensorflow.keras.layers import Dense, Activation\n",
        "from tensorflow.keras.models import Sequential\n",
        "from tensorflow.keras.models import load_model"
      ]
    },
    {
      "cell_type": "markdown",
      "source": [
        "No need for calling project_test.py file as a object and then calling each function by its object. yuou can write all functions directly and then call them directly."
      ],
      "metadata": {
        "id": "ebXWfeouUQuP"
      }
    },
    {
      "cell_type": "code",
      "source": [
        "import numpy as np\n",
        "from tensorflow.keras.losses import sparse_categorical_crossentropy\n",
        "from tensorflow.keras.models import Sequential\n",
        "from tensorflow.keras.preprocessing.text import Tokenizer\n",
        "from tensorflow.keras.utils import to_categorical\n",
        "from tensorflow.keras.layers import Dense, Activation\n",
        "from tensorflow.keras import Sequential\n",
        "from tensorflow.keras.models import load_model\n",
        "from tensorflow.keras.optimizers import Adam\n",
        "\n",
        "\n",
        "def _test_model(model, input_shape, output_sequence_length, urdu_vocab_size):\n",
        "     \n",
        "    assert model.input_shape == (None, *input_shape[1:]),\\\n",
        "        'Wrong input shape. Found input shape {} using parameter input_shape={}'.format(model.input_shape, input_shape)\n",
        "\n",
        "    assert model.output_shape == (None, output_sequence_length, urdu_vocab_size),\\\n",
        "        'Wrong output shape. Found output shape {} using parameters output_sequence_length={} and urdu_vocab_size={}'\\\n",
        "            .format(model.output_shape, output_sequence_length, urdu_vocab_size)\n",
        "\n",
        "    assert len(model.compiled_loss.metrics) >= 0,\\\n",
        "        'No loss function set.  Apply the `compile` function to the model.'\n",
        "\n",
        "    assert 'sparse_categorical_crossentropy' == model.compiled_loss._losses,\\\n",
        "        'Not using `sparse_categorical_crossentropy` function for loss.'\n",
        "\n",
        "\n",
        "def test_tokenize(tokenize):\n",
        "    sentences = [\n",
        "        'The quick brown fox jumps over the lazy dog .',\n",
        "        'By Jove , my quick study of lexicography won a prize .',\n",
        "        'This is a short sentence .']\n",
        "    tokenized_sentences, tokenizer = tokenize(sentences)\n",
        "    assert tokenized_sentences == tokenizer.texts_to_sequences(sentences),\\\n",
        "        'Tokenizer returned and doesn\\'t generate the same sentences as the tokenized sentences returned. '\n",
        "\n",
        "\n",
        "def test_pad(pad):\n",
        "    tokens = [\n",
        "        [i for i in range4)],\n",
        "        [i for i in range(6()],\n",
        "        [i for i in range(3)]]\n",
        "    padded_tokens = pad(tokens)\n",
        "    padding_id = padded_tokens[0][-1]\n",
        "    true_padded_tokens = np.array([\n",
        "        [i for i in range(4)] + [padding_id]*2,\n",
        "        [i for i in range(6)],\n",
        "        [i for i in range(3)] + [padding_id]*3])\n",
        "    assert isinstance(padded_tokens, np.ndarray),\\\n",
        "        'Pad returned the wrong type.  Found {} type, expected numpy array type.'\n",
        "    assert np.all(padded_tokens == true_padded_tokens), 'Pad returned the wrong results.'\n",
        "\n",
        "    padded_tokens_using_length = pad(tokens, 9)\n",
        "    assert np.all(padded_tokens_using_length == np.concatenate((true_padded_tokens, np.full((3, 3), padding_id)), axis=1)),\\\n",
        "        'Using length argument return incorrect results'\n",
        "\n",
        "\n",
        "def test_simple_model(simple_model):  \n",
        "    input_shape = (15096, 4, 1)\n",
        "    output_sequence_length = 4\n",
        "    english_vocab_size = 199\n",
        "    urdu_vocab_size = 344\n",
        "    model = simple_model(input_shape, output_sequence_length, english_vocab_size, urdu_vocab_size)\n",
        "    _test_model(model, input_shape, output_sequence_length, urdu_vocab_size)\n",
        "   \n",
        "\n",
        "def test_embed_model(embed_model):\n",
        "    input_shape = (15096, 21)\n",
        "    output_sequence_length = 21\n",
        "    english_vocab_size = 199\n",
        "    urdu_vocab_size = 344\n",
        "\n",
        "    model = embed_model(input_shape, output_sequence_length, english_vocab_size, urdu_vocab_size)\n",
        "    _test_model(model, input_shape, output_sequence_length, urdu_vocab_size)\n",
        "\n",
        "def test_encdec_model(encdec_model):\n",
        "    input_shape = (15096, 4, 1)\n",
        "    output_sequence_length = 4\n",
        "    english_vocab_size = 199\n",
        "    urdu_vocab_size = 344\n",
        "\n",
        "    model = encdec_model(input_shape, output_sequence_length, english_vocab_size, urdu_vocab_size)\n",
        "    _test_model(model, input_shape, output_sequence_length, urdu_vocab_size)\n",
        "\n",
        "\n",
        "def test_bd_model(bd_model):\n",
        "    input_shape = (15096, 4, 1)\n",
        "    output_sequence_length = 4\n",
        "    english_vocab_size = 199\n",
        "    urdu_vocab_size = 344\n",
        "\n",
        "    model = bd_model(input_shape, output_sequence_length, english_vocab_size, urdu_vocab_size)\n",
        "    _test_model(model, input_shape, output_sequence_length, urdu_vocab_size)\n",
        "\n",
        "\n",
        "def test_model_final(model_final):\n",
        "    input_shape = (15096, 4)\n",
        "    output_sequence_length = 4\n",
        "    english_vocab_size = 199\n",
        "    urdu_vocab_size = 344\n",
        "\n",
        "    model = model_final(input_shape, output_sequence_length, english_vocab_size, urdu_vocab_size)\n",
        "    _test_model(model, input_shape, output_sequence_length, urdu_vocab_size)\n",
        "\n"
      ],
      "metadata": {
        "id": "prvTqF1_NCnk"
      },
      "execution_count": null,
      "outputs": []
    },
    {
      "cell_type": "code",
      "source": [
        "lines=pd.read_csv('data_new.csv')\n",
        "english_sentences = lines['english_sentence']\n",
        "urdu_sentences = lines['urdu_sentence']\n",
        "for sample_i in range(2):\n",
        "    print('small_vocab_en Line {}:  {}'.format(sample_i + 1, english_sentences[sample_i]))\n",
        "    print('small_vocab_fr Line {}:  {}'.format(sample_i + 1, urdu_sentences[sample_i]))"
      ],
      "metadata": {
        "id": "I6wy-YGSNfbY"
      },
      "execution_count": null,
      "outputs": []
    },
    {
      "cell_type": "code",
      "source": [
        "english_words_counter = collections.Counter([word for sentence in english_sentences for word in sentence.split()])\n",
        "urdu_words_counter = collections.Counter([word for sentence in urdu_sentences for word in sentence.split()])\n",
        "print('{} English words.'.format(len([word for sentence in english_sentences for word in sentence.split()])))\n",
        "print('{} unique English words.'.format(len(english_words_counter)))\n",
        "print('10 Most common words in the English dataset:')\n",
        "print('\"' + '\" \"'.join(list(zip(*english_words_counter.most_common(10)))[0]) + '\"')\n",
        "print()\n",
        "print('{} Urdu words.'.format(len([word for sentence in urdu_sentences for word in sentence.split()])))\n",
        "print('{} unique Urdu words.'.format(len(urdu_words_counter)))\n",
        "print('10 Most common words in the Urdu dataset:')\n",
        "print('\"' + '\" \"'.join(list(zip(*urdu_words_counter.most_common(10)))[0]) + '\"')"
      ],
      "metadata": {
        "id": "yIJBLwNFN-2B"
      },
      "execution_count": null,
      "outputs": []
    },
    {
      "cell_type": "code",
      "source": [
        "def tokenize(x):\n",
        "    x_tk = Tokenizer(char_level = False)\n",
        "    x_tk.fit_on_texts(x)\n",
        "    return x_tk.texts_to_sequences(x), x_tk\n",
        "text_sentences = [\n",
        "    'The quick brown fox jumps over the lazy dog .','By Jove , my quick study of lexicography won a prize .',\n",
        "    'This is a short sentence .']\n",
        "text_tokenized, text_tokenizer = tokenize(text_sentences)\n",
        "print(text_tokenizer.word_index)\n",
        "print()\n",
        "for sample_i, (sent, token_sent) in enumerate(zip(text_sentences, text_tokenized)):\n",
        "    print('Sequence {} in x'.format(sample_i + 1))\n",
        "    print('  Input:  {}'.format(sent))\n",
        "    print('  Output: {}'.format(token_sent))"
      ],
      "metadata": {
        "id": "YbZYfW_4OV2C"
      },
      "execution_count": null,
      "outputs": []
    },
    {
      "cell_type": "code",
      "source": [
        "def pad(x, length=None):\n",
        "    if length is None:\n",
        "        length = max([len(sentence) for sentence in x])\n",
        "    return pad_sequences(x, maxlen = length, padding = 'post')\n",
        "test_pad(pad)\n",
        "# Pad Tokenized output\n",
        "test_pad = pad(text_tokenized)\n",
        "for sample_i, (token_sent, pad_sent) in enumerate(zip(text_tokenized, test_pad)):\n",
        "    print('Sequence {} in x'.format(sample_i + 1))\n",
        "    print('  Input:  {}'.format(np.array(token_sent)))\n",
        "    print('  Output: {}'.format(pad_sent))"
      ],
      "metadata": {
        "id": "RVhIEkxKOoLL"
      },
      "execution_count": null,
      "outputs": []
    },
    {
      "cell_type": "code",
      "source": [
        "def preprocess(x, y):\n",
        "    preprocess_x, x_tk = tokenize(x)\n",
        "    preprocess_y, y_tk = tokenize(y)\n",
        "    preprocess_x = pad(preprocess_x)\n",
        "    preprocess_y = pad(preprocess_y)\n",
        "# Keras's sparse_categorical_crossentropy function requires the labels to be in 3 dimensions\n",
        "    preprocess_y = preprocess_y.reshape(*preprocess_y.shape, 1)\n",
        "    return preprocess_x, preprocess_y, x_tk, y_tk\n",
        "preproc_english_sentences, preproc_urdu_sentences, english_tokenizer, urdu_tokenizer =\\\n",
        "preprocess(english_sentences, urdu_sentences)\n",
        "    \n",
        "max_english_sequence_length = preproc_english_sentences.shape[1]\n",
        "max_urdu_sequence_length = preproc_urdu_sentences.shape[1]\n",
        "english_vocab_size = len(english_tokenizer.word_index)\n",
        "urdu_vocab_size = len(urdu_tokenizer.word_index)\n",
        "print('Data Preprocessed')\n",
        "print(\"Max English sentence length:\", max_english_sequence_length)\n",
        "print(\"Max Urdu sentence length:\", max_urdu_sequence_length)\n",
        "print(\"English vocabulary size:\", english_vocab_size)\n",
        "print(\"Urdu vocabulary size:\", urdu_vocab_size)"
      ],
      "metadata": {
        "id": "eSxneq5sRFEg"
      },
      "execution_count": null,
      "outputs": []
    },
    {
      "cell_type": "code",
      "source": [
        "def logits_to_text(logits, tokenizer):\n",
        "    index_to_words = {id: word for word, id in tokenizer.word_index.items()}\n",
        "    index_to_words[0] = '<PAD>'\n",
        "    return ' '.join([index_to_words[prediction] for prediction in np.argmax(logits, 1)])\n",
        "print('`logits_to_text` function loaded.')"
      ],
      "metadata": {
        "id": "aiM9JZ6nR0D4"
      },
      "execution_count": null,
      "outputs": []
    },
    {
      "cell_type": "code",
      "source": [
        "def simple_model(input_shape, output_sequence_length, english_vocab_size, urdu_vocab_size):\n",
        "    learning_rate = 1e-3\n",
        "    input_seq = Input(input_shape[1:])\n",
        "    loss= 'sparse_categorical_crossentropy'\n",
        "    optimizer= 'adam'\n",
        "    metrics = ['accuracy']\n",
        "    rnn = GRU(32, return_sequences = True)(input_seq)\n",
        "    logits = TimeDistributed(Dense(urdu_vocab_size))(rnn)\n",
        "    model = Model(input_seq, Activation('softmax')(logits))\n",
        "    \n",
        "    model.compile(loss = loss, \n",
        "                 optimizer =optimizer, \n",
        "                 metrics = metrics)\n",
        "\n",
        "    return model\n",
        "input_shape = (15096, 4,1)\n",
        "output_sequence_length = 4\n",
        "english_vocab_size = 199\n",
        "urdu_vocab_size = 344\n",
        "simple_model(input_shape,output_sequence_length,english_vocab_size,urdu_vocab_size)\n",
        "tmp_x = pad(preproc_english_sentences, max_urdu_sequence_length)\n",
        "tmp_x = tmp_x.reshape((-1, preproc_urdu_sentences.shape[-2], 1))\n",
        "# Train the neural network\n",
        "simple_rnn_model = simple_model(\n",
        "    tmp_x.shape,\n",
        "    max_urdu_sequence_length,\n",
        "    english_vocab_size,\n",
        "    urdu_vocab_size)\n",
        "simple_rnn_model.fit(tmp_x, preproc_urdu_sentences, batch_size=1000, epochs=10, validation_split=0.2)\n",
        "# Print prediction(s)\n",
        "print(logits_to_text(simple_rnn_model.predict(tmp_x[:1])[0], urdu_tokenizer))\n"
      ],
      "metadata": {
        "id": "-s2znAwtSB1b"
      },
      "execution_count": null,
      "outputs": []
    },
    {
      "cell_type": "code",
      "source": [
        "\n",
        "def bd_model(input_shape, output_sequence_length, english_vocab_size, french_vocab_size):\n",
        "   \n",
        "    learning_rate = 1e-3\n",
        "    model = Sequential()\n",
        "    model.add(Bidirectional(GRU(128, return_sequences = True, dropout = 0.1), \n",
        "                           input_shape = input_shape[1:]))\n",
        "    model.add(TimeDistributed(Dense(urdu_vocab_size, activation = 'softmax')))\n",
        "    model.compile(loss = sparse_categorical_crossentropy, \n",
        "                 optimizer = Adam(learning_rate), \n",
        "                 metrics = ['accuracy'])\n",
        "    return model\n",
        "input_shape = (15096, 4,1)\n",
        "output_sequence_length = 4\n",
        "english_vocab_size = 199\n",
        "urdu_vocab_size = 344\n",
        "bd_model(input_shape,output_sequence_length,english_vocab_size,urdu_vocab_size)\n",
        "tmp_x = pad(preproc_english_sentences, preproc_urdu_sentences.shape[1])\n",
        "tmp_x = tmp_x.reshape((-1, preproc_urdu_sentences.shape[-2], 1))\n",
        "bidi_model = bd_model(\n",
        "    tmp_x.shape,\n",
        "    preproc_urdu_sentences.shape[1],\n",
        "    len(english_tokenizer.word_index)+1,\n",
        "    len(urdu_tokenizer.word_index)+1)\n",
        "bidi_model.fit(tmp_x, preproc_urdu_sentences, batch_size=1024, epochs=20, validation_split=0.2)\n",
        "# Print prediction(s)\n",
        "print(logits_to_text(bidi_model.predict(tmp_x[:1])[0], urdu_tokenizer))"
      ],
      "metadata": {
        "id": "FMr9hGvBS-dB"
      },
      "execution_count": null,
      "outputs": []
    },
    {
      "cell_type": "code",
      "source": [
        "def model_final(input_shape, output_sequence_length, english_vocab_size, urdu_vocab_size):\n",
        "  \n",
        "    model = Sequential()\n",
        "    model.add(Embedding(input_dim=english_vocab_size,output_dim=128,input_length=input_shape[1]))\n",
        "    model.add(Bidirectional(GRU(256,return_sequences=False)))\n",
        "    model.add(RepeatVector(output_sequence_length))\n",
        "    model.add(Bidirectional(GRU(256,return_sequences=True)))\n",
        "    model.add(TimeDistributed(Dense(urdu_vocab_size,activation='softmax')))\n",
        "    learning_rate = 0.005\n",
        "    \n",
        "    model.compile(loss = sparse_categorical_crossentropy, \n",
        "                 optimizer = Adam(learning_rate), \n",
        "                 metrics = ['accuracy'])\n",
        "    \n",
        "    return model\n",
        "input_shape = (15096, 4)\n",
        "output_sequence_length = 4\n",
        "english_vocab_size = 199\n",
        "urdu_vocab_size = 344\n",
        "model_final(input_shape,output_sequence_length,english_vocab_size,urdu_vocab_size)\n",
        "print('Final Model Loaded')"
      ],
      "metadata": {
        "id": "hBcByCdmO-Mj"
      },
      "execution_count": null,
      "outputs": []
    },
    {
      "cell_type": "code",
      "source": [
        "def final_predictions(x, y, x_tk, y_tk):\n",
        " \n",
        "    tmp_x = pad(preproc_english_sentences, preproc_urdu_sentences.shape[1])\n",
        "    tmp_x = tmp_x.reshape((-1, preproc_urdu_sentences.shape[-2], 1))\n",
        "    tmp_x = pad(preproc_english_sentences, max_urdu_sequence_length)\n",
        "    tmp_x = tmp_x.reshape((-1, preproc_urdu_sentences.shape[-2], 1))\n",
        "    model = bd_model(\n",
        "    tmp_x.shape,\n",
        "    preproc_urdu_sentences.shape[1],\n",
        "    len(english_tokenizer.word_index)+1,\n",
        "    len(urdu_tokenizer.word_index)+1)\n",
        "    \n",
        "    model.fit(tmp_x, preproc_urdu_sentences, batch_size = 1024, epochs = 17, validation_split = 0.2)\n",
        "    \n",
        "    y_id_to_word = {value: key for key, value in y_tk.word_index.items()}\n",
        "    y_id_to_word[0] = '<PAD>'\n",
        "\n",
        "    sentence = 'he saw a old yellow '\n",
        "    sentence = [x_tk.word_index[word] for word in sentence.split()]\n",
        "    sentence = pad_sequences([sentence], maxlen=x.shape[-1], padding='post')\n",
        "    sentences = np.array([sentence[0], x[0]]).astype(np.float32)\n",
        "    predictions = model.predict(sentences, len(sentences))\n",
        "\n",
        "    print('Sample 1:')\n",
        "    print(' '.join([y_id_to_word[np.argmax(x)] for x in predictions[0]]))\n",
        "    print('Il a vu un vieux camion jaune')\n",
        "    print('Sample 2:')\n",
        "    print(' '.join([y_id_to_word[np.argmax(x)] for x in predictions[1]]))\n",
        "    print(' '.join([y_id_to_word[np.max(x)] for x in y[0]]))\n",
        "\n",
        "\n",
        "final_predictions(preproc_english_sentences, preproc_urdu_sentences, english_tokenizer, urdu_tokenizer)"
      ],
      "metadata": {
        "id": "KrS-NFRJdmjr"
      },
      "execution_count": null,
      "outputs": []
    },
    {
      "cell_type": "code",
      "source": [
        ""
      ],
      "metadata": {
        "id": "oUx2-rCDxGkh"
      },
      "execution_count": null,
      "outputs": []
    }
  ]
}